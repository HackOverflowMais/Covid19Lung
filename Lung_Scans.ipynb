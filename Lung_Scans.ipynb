{
  "nbformat": 4,
  "nbformat_minor": 0,
  "metadata": {
    "colab": {
      "name": "Lung_Scans.ipynb",
      "provenance": []
    },
    "kernelspec": {
      "name": "python3",
      "display_name": "Python 3"
    },
    "accelerator": "GPU"
  },
  "cells": [
    {
      "cell_type": "code",
      "metadata": {
        "colab": {
          "base_uri": "https://localhost:8080/"
        },
        "id": "FHeIDpWknYWp",
        "outputId": "5f28e11f-d661-4f02-8d66-452b22fd0e7a"
      },
      "source": [
        "! git clone https://github.com/HackOverflowMais/Covid19Lung"
      ],
      "execution_count": 1,
      "outputs": [
        {
          "output_type": "stream",
          "text": [
            "fatal: destination path 'Covid19Lung' already exists and is not an empty directory.\n"
          ],
          "name": "stdout"
        }
      ]
    },
    {
      "cell_type": "code",
      "metadata": {
        "colab": {
          "base_uri": "https://localhost:8080/"
        },
        "id": "R_MbnndYpXef",
        "outputId": "abf2b0ac-8c7d-47d1-8b51-9fce2fd288d9"
      },
      "source": [
        "%cd Covid19Lung\r\n"
      ],
      "execution_count": 2,
      "outputs": [
        {
          "output_type": "stream",
          "text": [
            "/content/Covid19Lung\n"
          ],
          "name": "stdout"
        }
      ]
    },
    {
      "cell_type": "code",
      "metadata": {
        "id": "vPWHGMxNpXiX"
      },
      "source": [
        ""
      ],
      "execution_count": 2,
      "outputs": []
    },
    {
      "cell_type": "code",
      "metadata": {
        "id": "URmUbUxMpXlz"
      },
      "source": [
        ""
      ],
      "execution_count": 2,
      "outputs": []
    },
    {
      "cell_type": "code",
      "metadata": {
        "colab": {
          "base_uri": "https://localhost:8080/"
        },
        "id": "joQ8u2pcpFfU",
        "outputId": "58f88077-4a6d-4794-f1f4-55af5addb965"
      },
      "source": [
        "\r\n",
        "!pip install -r requirements.txt\r\n",
        "\r\n",
        "# Import Dependencies\r\n",
        "import numpy\r\n",
        "import pandas\r\n",
        "import os\r\n",
        "import tensorflow as tf\r\n",
        "import matplotlib.pyplot as plt\r\n",
        "import random\r\n",
        "import shutil\r\n",
        "import cv2\r\n",
        "from sklearn.metrics import f1_score, jaccard_score, confusion_matrix\r\n",
        "from pathlib import Path\r\n",
        "\r\n",
        "# Keras Stuff\r\n",
        "from tensorflow.keras.models import Sequential\r\n",
        "from tensorflow.keras.layers import Dense\r\n",
        "from tensorflow.keras.layers import Conv2D\r\n",
        "from tensorflow.keras.layers import Flatten\r\n",
        "from tensorflow.keras.layers import Dropout\r\n",
        "from tensorflow.keras.layers import MaxPooling2D\r\n",
        "from tensorflow.keras.preprocessing.image import ImageDataGenerator\r\n",
        "from tensorflow.keras.losses import BinaryCrossentropy\r\n",
        "from tensorflow.keras.callbacks import EarlyStopping"
      ],
      "execution_count": 3,
      "outputs": [
        {
          "output_type": "stream",
          "text": [
            "Requirement already satisfied: tensorflow in /usr/local/lib/python3.6/dist-packages (from -r requirements.txt (line 1)) (2.4.0)\n",
            "Requirement already satisfied: numpy in /usr/local/lib/python3.6/dist-packages (from -r requirements.txt (line 2)) (1.19.5)\n",
            "Requirement already satisfied: matplotlib in /usr/local/lib/python3.6/dist-packages (from -r requirements.txt (line 3)) (3.2.2)\n",
            "Requirement already satisfied: opencv-python in /usr/local/lib/python3.6/dist-packages (from -r requirements.txt (line 4)) (4.1.2.30)\n",
            "Requirement already satisfied: scikit-learn in /usr/local/lib/python3.6/dist-packages (from -r requirements.txt (line 5)) (0.22.2.post1)\n",
            "Requirement already satisfied: termcolor~=1.1.0 in /usr/local/lib/python3.6/dist-packages (from tensorflow->-r requirements.txt (line 1)) (1.1.0)\n",
            "Requirement already satisfied: tensorboard~=2.4 in /usr/local/lib/python3.6/dist-packages (from tensorflow->-r requirements.txt (line 1)) (2.4.0)\n",
            "Requirement already satisfied: h5py~=2.10.0 in /usr/local/lib/python3.6/dist-packages (from tensorflow->-r requirements.txt (line 1)) (2.10.0)\n",
            "Requirement already satisfied: flatbuffers~=1.12.0 in /usr/local/lib/python3.6/dist-packages (from tensorflow->-r requirements.txt (line 1)) (1.12)\n",
            "Requirement already satisfied: six~=1.15.0 in /usr/local/lib/python3.6/dist-packages (from tensorflow->-r requirements.txt (line 1)) (1.15.0)\n",
            "Requirement already satisfied: typing-extensions~=3.7.4 in /usr/local/lib/python3.6/dist-packages (from tensorflow->-r requirements.txt (line 1)) (3.7.4.3)\n",
            "Requirement already satisfied: google-pasta~=0.2 in /usr/local/lib/python3.6/dist-packages (from tensorflow->-r requirements.txt (line 1)) (0.2.0)\n",
            "Requirement already satisfied: wheel~=0.35 in /usr/local/lib/python3.6/dist-packages (from tensorflow->-r requirements.txt (line 1)) (0.36.2)\n",
            "Requirement already satisfied: wrapt~=1.12.1 in /usr/local/lib/python3.6/dist-packages (from tensorflow->-r requirements.txt (line 1)) (1.12.1)\n",
            "Requirement already satisfied: tensorflow-estimator<2.5.0,>=2.4.0rc0 in /usr/local/lib/python3.6/dist-packages (from tensorflow->-r requirements.txt (line 1)) (2.4.0)\n",
            "Requirement already satisfied: astunparse~=1.6.3 in /usr/local/lib/python3.6/dist-packages (from tensorflow->-r requirements.txt (line 1)) (1.6.3)\n",
            "Requirement already satisfied: absl-py~=0.10 in /usr/local/lib/python3.6/dist-packages (from tensorflow->-r requirements.txt (line 1)) (0.10.0)\n",
            "Requirement already satisfied: protobuf>=3.9.2 in /usr/local/lib/python3.6/dist-packages (from tensorflow->-r requirements.txt (line 1)) (3.12.4)\n",
            "Requirement already satisfied: keras-preprocessing~=1.1.2 in /usr/local/lib/python3.6/dist-packages (from tensorflow->-r requirements.txt (line 1)) (1.1.2)\n",
            "Requirement already satisfied: grpcio~=1.32.0 in /usr/local/lib/python3.6/dist-packages (from tensorflow->-r requirements.txt (line 1)) (1.32.0)\n",
            "Requirement already satisfied: opt-einsum~=3.3.0 in /usr/local/lib/python3.6/dist-packages (from tensorflow->-r requirements.txt (line 1)) (3.3.0)\n",
            "Requirement already satisfied: gast==0.3.3 in /usr/local/lib/python3.6/dist-packages (from tensorflow->-r requirements.txt (line 1)) (0.3.3)\n",
            "Requirement already satisfied: cycler>=0.10 in /usr/local/lib/python3.6/dist-packages (from matplotlib->-r requirements.txt (line 3)) (0.10.0)\n",
            "Requirement already satisfied: pyparsing!=2.0.4,!=2.1.2,!=2.1.6,>=2.0.1 in /usr/local/lib/python3.6/dist-packages (from matplotlib->-r requirements.txt (line 3)) (2.4.7)\n",
            "Requirement already satisfied: python-dateutil>=2.1 in /usr/local/lib/python3.6/dist-packages (from matplotlib->-r requirements.txt (line 3)) (2.8.1)\n",
            "Requirement already satisfied: kiwisolver>=1.0.1 in /usr/local/lib/python3.6/dist-packages (from matplotlib->-r requirements.txt (line 3)) (1.3.1)\n",
            "Requirement already satisfied: joblib>=0.11 in /usr/local/lib/python3.6/dist-packages (from scikit-learn->-r requirements.txt (line 5)) (1.0.0)\n",
            "Requirement already satisfied: scipy>=0.17.0 in /usr/local/lib/python3.6/dist-packages (from scikit-learn->-r requirements.txt (line 5)) (1.4.1)\n",
            "Requirement already satisfied: google-auth<2,>=1.6.3 in /usr/local/lib/python3.6/dist-packages (from tensorboard~=2.4->tensorflow->-r requirements.txt (line 1)) (1.17.2)\n",
            "Requirement already satisfied: markdown>=2.6.8 in /usr/local/lib/python3.6/dist-packages (from tensorboard~=2.4->tensorflow->-r requirements.txt (line 1)) (3.3.3)\n",
            "Requirement already satisfied: setuptools>=41.0.0 in /usr/local/lib/python3.6/dist-packages (from tensorboard~=2.4->tensorflow->-r requirements.txt (line 1)) (51.3.3)\n",
            "Requirement already satisfied: tensorboard-plugin-wit>=1.6.0 in /usr/local/lib/python3.6/dist-packages (from tensorboard~=2.4->tensorflow->-r requirements.txt (line 1)) (1.7.0)\n",
            "Requirement already satisfied: werkzeug>=0.11.15 in /usr/local/lib/python3.6/dist-packages (from tensorboard~=2.4->tensorflow->-r requirements.txt (line 1)) (1.0.1)\n",
            "Requirement already satisfied: requests<3,>=2.21.0 in /usr/local/lib/python3.6/dist-packages (from tensorboard~=2.4->tensorflow->-r requirements.txt (line 1)) (2.23.0)\n",
            "Requirement already satisfied: google-auth-oauthlib<0.5,>=0.4.1 in /usr/local/lib/python3.6/dist-packages (from tensorboard~=2.4->tensorflow->-r requirements.txt (line 1)) (0.4.2)\n",
            "Requirement already satisfied: cachetools<5.0,>=2.0.0 in /usr/local/lib/python3.6/dist-packages (from google-auth<2,>=1.6.3->tensorboard~=2.4->tensorflow->-r requirements.txt (line 1)) (4.2.0)\n",
            "Requirement already satisfied: rsa<5,>=3.1.4; python_version >= \"3\" in /usr/local/lib/python3.6/dist-packages (from google-auth<2,>=1.6.3->tensorboard~=2.4->tensorflow->-r requirements.txt (line 1)) (4.6)\n",
            "Requirement already satisfied: pyasn1-modules>=0.2.1 in /usr/local/lib/python3.6/dist-packages (from google-auth<2,>=1.6.3->tensorboard~=2.4->tensorflow->-r requirements.txt (line 1)) (0.2.8)\n",
            "Requirement already satisfied: importlib-metadata; python_version < \"3.8\" in /usr/local/lib/python3.6/dist-packages (from markdown>=2.6.8->tensorboard~=2.4->tensorflow->-r requirements.txt (line 1)) (3.3.0)\n",
            "Requirement already satisfied: idna<3,>=2.5 in /usr/local/lib/python3.6/dist-packages (from requests<3,>=2.21.0->tensorboard~=2.4->tensorflow->-r requirements.txt (line 1)) (2.10)\n",
            "Requirement already satisfied: urllib3!=1.25.0,!=1.25.1,<1.26,>=1.21.1 in /usr/local/lib/python3.6/dist-packages (from requests<3,>=2.21.0->tensorboard~=2.4->tensorflow->-r requirements.txt (line 1)) (1.24.3)\n",
            "Requirement already satisfied: chardet<4,>=3.0.2 in /usr/local/lib/python3.6/dist-packages (from requests<3,>=2.21.0->tensorboard~=2.4->tensorflow->-r requirements.txt (line 1)) (3.0.4)\n",
            "Requirement already satisfied: certifi>=2017.4.17 in /usr/local/lib/python3.6/dist-packages (from requests<3,>=2.21.0->tensorboard~=2.4->tensorflow->-r requirements.txt (line 1)) (2020.12.5)\n",
            "Requirement already satisfied: requests-oauthlib>=0.7.0 in /usr/local/lib/python3.6/dist-packages (from google-auth-oauthlib<0.5,>=0.4.1->tensorboard~=2.4->tensorflow->-r requirements.txt (line 1)) (1.3.0)\n",
            "Requirement already satisfied: pyasn1>=0.1.3 in /usr/local/lib/python3.6/dist-packages (from rsa<5,>=3.1.4; python_version >= \"3\"->google-auth<2,>=1.6.3->tensorboard~=2.4->tensorflow->-r requirements.txt (line 1)) (0.4.8)\n",
            "Requirement already satisfied: zipp>=0.5 in /usr/local/lib/python3.6/dist-packages (from importlib-metadata; python_version < \"3.8\"->markdown>=2.6.8->tensorboard~=2.4->tensorflow->-r requirements.txt (line 1)) (3.4.0)\n",
            "Requirement already satisfied: oauthlib>=3.0.0 in /usr/local/lib/python3.6/dist-packages (from requests-oauthlib>=0.7.0->google-auth-oauthlib<0.5,>=0.4.1->tensorboard~=2.4->tensorflow->-r requirements.txt (line 1)) (3.1.0)\n"
          ],
          "name": "stdout"
        }
      ]
    },
    {
      "cell_type": "code",
      "metadata": {
        "colab": {
          "base_uri": "https://localhost:8080/"
        },
        "id": "DrFf1gBBnrAc",
        "outputId": "2df55c8a-636f-442e-8383-8bdb2f66a58b"
      },
      "source": [
        "p_covid = Path(\"./data/CT_COVID\")\r\n",
        "p_not_coivd = Path(\"./data/CT_NonCOVID\")\r\n",
        "p_cov_len = len([x for x in p_covid.iterdir()])\r\n",
        "p_not_cov_len = len([x for x in p_not_coivd.iterdir()])\r\n",
        "print(f\"Scans Covid: {p_cov_len}\\nScans with No Covid: {p_not_cov_len}\")\r\n",
        "train_data_cov = int(0.9 * p_cov_len)\r\n",
        "train_data_cov_no = int(0.9 * p_not_cov_len)\r\n",
        "print(f\"Train Data COVID: {train_data_cov}\\nTest Data Covid: {p_cov_len - train_data_cov}\\nTrain Data NO COVID: {train_data_cov_no}\\nTest Data No Covid: {p_not_cov_len - train_data_cov_no}\")"
      ],
      "execution_count": 4,
      "outputs": [
        {
          "output_type": "stream",
          "text": [
            "Scans Covid: 349\n",
            "Scans with No Covid: 397\n",
            "Train Data COVID: 314\n",
            "Test Data Covid: 35\n",
            "Train Data NO COVID: 357\n",
            "Test Data No Covid: 40\n"
          ],
          "name": "stdout"
        }
      ]
    },
    {
      "cell_type": "code",
      "metadata": {
        "colab": {
          "base_uri": "https://localhost:8080/"
        },
        "id": "WJLd4Cc8nrDx",
        "outputId": "72cb79cc-45fe-4276-bde8-65351bede66b"
      },
      "source": [
        "# Move Test Files Away\r\n",
        "os.makedirs(\"./train/covid\",exist_ok=True)\r\n",
        "os.makedirs(\"./train/notcovid\",exist_ok=True)\r\n",
        "os.makedirs(\"./test/covid\",exist_ok=True)\r\n",
        "os.makedirs(\"./test/notcovid\",exist_ok=True)\r\n",
        "print(\"Made Dirs\")"
      ],
      "execution_count": 5,
      "outputs": [
        {
          "output_type": "stream",
          "text": [
            "Made Dirs\n"
          ],
          "name": "stdout"
        }
      ]
    },
    {
      "cell_type": "code",
      "metadata": {
        "colab": {
          "base_uri": "https://localhost:8080/"
        },
        "id": "ZtIXoEGcnrHQ",
        "outputId": "0216e49e-2a86-43b7-d0b2-0a0bf852eb1b"
      },
      "source": [
        "random.seed(456)\r\n",
        "train_data_cov_to_move = random.sample([x for x in p_covid.iterdir()], train_data_cov)\r\n",
        "file_name_train_cov = [str(f).split(\"/\")[2] for f in train_data_cov_to_move]\r\n",
        "for i in range(len(train_data_cov_to_move)):\r\n",
        "    shutil.copy(f\"./data/CT_COVID/{file_name_train_cov[i]}\",f\"./train/covid/{file_name_train_cov[i]}\")\r\n",
        "\r\n",
        "print(f\"Moved {len(file_name_train_cov)} train covid\")\r\n",
        "\r\n",
        "c = 0\r\n",
        "to_mov_test_cov = [str(x).split(\"/\")[2] for x in p_covid.iterdir()]\r\n",
        "for file in to_mov_test_cov:\r\n",
        "    if file not in file_name_train_cov:\r\n",
        "        file = file.replace(\"\\\\\",\"/\")\r\n",
        "        shutil.copy(f\"./data/CT_COVID/{file}\", f\"./test/covid/{file}\")\r\n",
        "        c += 1\r\n",
        "print(f\"Moved {c} test covid\")"
      ],
      "execution_count": 6,
      "outputs": [
        {
          "output_type": "stream",
          "text": [
            "Moved 314 train covid\n",
            "Moved 35 test covid\n"
          ],
          "name": "stdout"
        }
      ]
    },
    {
      "cell_type": "code",
      "metadata": {
        "colab": {
          "base_uri": "https://localhost:8080/"
        },
        "id": "sQSI_52QnrKh",
        "outputId": "4993421a-1a8f-4fc3-8f57-772832f955d9"
      },
      "source": [
        "train_data_no_cov_to_move = random.sample([x for x in  p_not_coivd.iterdir()], train_data_cov_no)\r\n",
        "file_name_train_no_cov = [str(f).split(\"/\")[2] for f in train_data_no_cov_to_move]\r\n",
        "for i in range(len(train_data_cov_to_move)):\r\n",
        "    shutil.copy(f\"./data/CT_NonCOVID/{file_name_train_no_cov[i]}\",f\"./train/notcovid/{file_name_train_no_cov[i]}\")\r\n",
        "\r\n",
        "print(f\"Moved {len(file_name_train_no_cov)} train nocovid\")\r\n",
        "\r\n",
        "c = 0\r\n",
        "to_mov_test_no_cov = [str(x).split(\"/\")[2] for x in p_not_coivd.iterdir()]\r\n",
        "for file in to_mov_test_no_cov:\r\n",
        "    if file not in file_name_train_no_cov:\r\n",
        "        shutil.copy(f\"./data/CT_NonCOVID/{file}\", f\"./test/notcovid/{file}\")\r\n",
        "        c += 1\r\n",
        "print(f\"Moved {c} test nocovid\")"
      ],
      "execution_count": 7,
      "outputs": [
        {
          "output_type": "stream",
          "text": [
            "Moved 357 train nocovid\n",
            "Moved 40 test nocovid\n"
          ],
          "name": "stdout"
        }
      ]
    },
    {
      "cell_type": "code",
      "metadata": {
        "id": "0i9aF64Qn2H-"
      },
      "source": [
        "# Some Config Vars\r\n",
        "batch_size_number = 64\r\n",
        "epoch = 50\r\n",
        "h = 150\r\n",
        "w = 150\r\n",
        "\r\n",
        "total_train = len([c for c in os.listdir(\"./train/covid\")]) + len([c for c in os.listdir(\"./train/notcovid\")])\r\n",
        "total_test = len([c for c in os.listdir(\"./test/covid\")]) + len([c for c in os.listdir(\"./test/notcovid\")])"
      ],
      "execution_count": 8,
      "outputs": []
    },
    {
      "cell_type": "code",
      "metadata": {
        "id": "A0XThCpCn2L6"
      },
      "source": [
        "train_image_generator = ImageDataGenerator(rescale=1./255)\r\n",
        "test_image_generator = ImageDataGenerator(rescale=1./255)"
      ],
      "execution_count": 9,
      "outputs": []
    },
    {
      "cell_type": "code",
      "metadata": {
        "colab": {
          "base_uri": "https://localhost:8080/"
        },
        "id": "HxnOW9Xxn2Qc",
        "outputId": "39c7bc94-2894-40ed-c593-e3e2103d6b76"
      },
      "source": [
        "\r\n",
        "train_data_loc = os.path.join(\"./train\")\r\n",
        "train_data_proc = train_image_generator.flow_from_directory(batch_size=batch_size_number,\r\n",
        "                                                            directory=train_data_loc,\r\n",
        "                                                            shuffle=True,\r\n",
        "                                                            target_size=(h,w),\r\n",
        "                                                            class_mode='binary')\r\n"
      ],
      "execution_count": 10,
      "outputs": [
        {
          "output_type": "stream",
          "text": [
            "Found 709 images belonging to 2 classes.\n"
          ],
          "name": "stdout"
        }
      ]
    },
    {
      "cell_type": "code",
      "metadata": {
        "colab": {
          "base_uri": "https://localhost:8080/"
        },
        "id": "DdTwlstGn_5d",
        "outputId": "baab4466-ee4c-420d-87a0-ec63198fbfd9"
      },
      "source": [
        "test_data_loc = os.path.join(\"./test\")\r\n",
        "test_data_proc = train_image_generator.flow_from_directory(batch_size=batch_size_number,\r\n",
        "                                                            directory=test_data_loc,\r\n",
        "                                                            shuffle=True,\r\n",
        "                                                            target_size=(h,w),\r\n",
        "                                                            class_mode='binary')"
      ],
      "execution_count": 11,
      "outputs": [
        {
          "output_type": "stream",
          "text": [
            "Found 109 images belonging to 2 classes.\n"
          ],
          "name": "stdout"
        }
      ]
    },
    {
      "cell_type": "code",
      "metadata": {
        "colab": {
          "base_uri": "https://localhost:8080/"
        },
        "id": "szSUznVAn_8y",
        "outputId": "67246506-8de9-4077-9b45-c735f3e18a5b"
      },
      "source": [
        "model = Sequential([\r\n",
        "    Conv2D(16, 3, padding='same', activation='relu', input_shape=(h, w, 3)),\r\n",
        "    MaxPooling2D(),\r\n",
        "    Conv2D(32, 3, padding='same', activation='relu'),\r\n",
        "    MaxPooling2D(),\r\n",
        "    Conv2D(64, 3, padding='same', activation='relu'),\r\n",
        "    MaxPooling2D(),\r\n",
        "    Flatten(),\r\n",
        "    Dense(512, activation='relu'),\r\n",
        "    Dense(1)\r\n",
        "])\r\n",
        "\r\n",
        "\r\n",
        "model.summary()\r\n"
      ],
      "execution_count": 12,
      "outputs": [
        {
          "output_type": "stream",
          "text": [
            "Model: \"sequential\"\n",
            "_________________________________________________________________\n",
            "Layer (type)                 Output Shape              Param #   \n",
            "=================================================================\n",
            "conv2d (Conv2D)              (None, 150, 150, 16)      448       \n",
            "_________________________________________________________________\n",
            "max_pooling2d (MaxPooling2D) (None, 75, 75, 16)        0         \n",
            "_________________________________________________________________\n",
            "conv2d_1 (Conv2D)            (None, 75, 75, 32)        4640      \n",
            "_________________________________________________________________\n",
            "max_pooling2d_1 (MaxPooling2 (None, 37, 37, 32)        0         \n",
            "_________________________________________________________________\n",
            "conv2d_2 (Conv2D)            (None, 37, 37, 64)        18496     \n",
            "_________________________________________________________________\n",
            "max_pooling2d_2 (MaxPooling2 (None, 18, 18, 64)        0         \n",
            "_________________________________________________________________\n",
            "flatten (Flatten)            (None, 20736)             0         \n",
            "_________________________________________________________________\n",
            "dense (Dense)                (None, 512)               10617344  \n",
            "_________________________________________________________________\n",
            "dense_1 (Dense)              (None, 1)                 513       \n",
            "=================================================================\n",
            "Total params: 10,641,441\n",
            "Trainable params: 10,641,441\n",
            "Non-trainable params: 0\n",
            "_________________________________________________________________\n"
          ],
          "name": "stdout"
        }
      ]
    },
    {
      "cell_type": "code",
      "metadata": {
        "id": "QoWEdEeAtZhI"
      },
      "source": [
        "from keras.callbacks import ModelCheckpoint\r\n",
        "from keras.callbacks import ReduceLROnPlateau"
      ],
      "execution_count": 16,
      "outputs": []
    },
    {
      "cell_type": "code",
      "metadata": {
        "colab": {
          "base_uri": "https://localhost:8080/"
        },
        "id": "x7OgCFs2n__z",
        "outputId": "7503b881-6aa4-41be-a1a5-e1641f49be9d"
      },
      "source": [
        "model.compile(optimizer='adam',loss=BinaryCrossentropy(from_logits=True),metrics=['accuracy'])\r\n",
        "\r\n",
        "earlyStopping = EarlyStopping(monitor='val_accuracy', patience=10, verbose=0, mode='max',restore_best_weights=True)\r\n",
        "mcp_save = ModelCheckpoint('.mdl_wts.hdf5', save_best_only=True, monitor='val_accuracy', mode='max')\r\n",
        "reduce_lr_loss = ReduceLROnPlateau(monitor='val_accuracy', factor=0.1, patience=7, verbose=1, epsilon=1e-4, mode='max')\r\n",
        "\r\n",
        "history = model.fit_generator(\r\n",
        "    train_data_proc,\r\n",
        "    steps_per_epoch=(total_train//batch_size_number),\r\n",
        "    epochs=epoch,\r\n",
        "    validation_data=test_data_proc,\r\n",
        "    validation_steps=total_test//batch_size_number,\r\n",
        "    callbacks=[earlyStopping, mcp_save, reduce_lr_loss]\r\n",
        ")"
      ],
      "execution_count": 17,
      "outputs": [
        {
          "output_type": "stream",
          "text": [
            "WARNING:tensorflow:`epsilon` argument is deprecated and will be removed, use `min_delta` instead.\n"
          ],
          "name": "stdout"
        },
        {
          "output_type": "stream",
          "text": [
            "/usr/local/lib/python3.6/dist-packages/tensorflow/python/keras/engine/training.py:1844: UserWarning: `Model.fit_generator` is deprecated and will be removed in a future version. Please use `Model.fit`, which supports generators.\n",
            "  warnings.warn('`Model.fit_generator` is deprecated and '\n"
          ],
          "name": "stderr"
        },
        {
          "output_type": "stream",
          "text": [
            "Epoch 1/50\n",
            "11/11 [==============================] - 6s 277ms/step - loss: 1.5690 - accuracy: 0.5502 - val_loss: 0.7057 - val_accuracy: 0.1875\n",
            "Epoch 2/50\n",
            "11/11 [==============================] - 3s 279ms/step - loss: 0.6587 - accuracy: 0.5244 - val_loss: 0.6044 - val_accuracy: 0.4844\n",
            "Epoch 3/50\n",
            "11/11 [==============================] - 3s 271ms/step - loss: 0.6234 - accuracy: 0.6030 - val_loss: 0.5356 - val_accuracy: 0.5625\n",
            "Epoch 4/50\n",
            "11/11 [==============================] - 3s 279ms/step - loss: 0.5638 - accuracy: 0.6543 - val_loss: 0.4821 - val_accuracy: 0.6875\n",
            "Epoch 5/50\n",
            "11/11 [==============================] - 3s 277ms/step - loss: 0.4713 - accuracy: 0.7662 - val_loss: 0.5115 - val_accuracy: 0.7812\n",
            "Epoch 6/50\n",
            "11/11 [==============================] - 3s 277ms/step - loss: 0.4429 - accuracy: 0.7782 - val_loss: 0.4568 - val_accuracy: 0.7500\n",
            "Epoch 7/50\n",
            "11/11 [==============================] - 3s 270ms/step - loss: 0.3657 - accuracy: 0.8101 - val_loss: 0.3834 - val_accuracy: 0.7656\n",
            "Epoch 8/50\n",
            "11/11 [==============================] - 3s 294ms/step - loss: 0.2982 - accuracy: 0.8713 - val_loss: 0.3668 - val_accuracy: 0.8125\n",
            "Epoch 9/50\n",
            "11/11 [==============================] - 3s 285ms/step - loss: 0.3308 - accuracy: 0.8271 - val_loss: 0.5115 - val_accuracy: 0.6250\n",
            "Epoch 10/50\n",
            "11/11 [==============================] - 3s 276ms/step - loss: 0.3063 - accuracy: 0.8567 - val_loss: 0.4772 - val_accuracy: 0.7969\n",
            "Epoch 11/50\n",
            "11/11 [==============================] - 3s 273ms/step - loss: 0.2543 - accuracy: 0.8934 - val_loss: 0.3885 - val_accuracy: 0.8438\n",
            "Epoch 12/50\n",
            "11/11 [==============================] - 3s 300ms/step - loss: 0.2090 - accuracy: 0.9145 - val_loss: 0.2567 - val_accuracy: 0.8750\n",
            "Epoch 13/50\n",
            "11/11 [==============================] - 3s 276ms/step - loss: 0.1679 - accuracy: 0.9280 - val_loss: 0.2211 - val_accuracy: 0.9219\n",
            "Epoch 14/50\n",
            "11/11 [==============================] - 3s 284ms/step - loss: 0.1434 - accuracy: 0.9470 - val_loss: 0.3395 - val_accuracy: 0.8438\n",
            "Epoch 15/50\n",
            "11/11 [==============================] - 3s 278ms/step - loss: 0.1328 - accuracy: 0.9420 - val_loss: 0.3077 - val_accuracy: 0.8594\n",
            "Epoch 16/50\n",
            "11/11 [==============================] - 3s 280ms/step - loss: 0.1199 - accuracy: 0.9423 - val_loss: 0.4005 - val_accuracy: 0.8438\n",
            "Epoch 17/50\n",
            "11/11 [==============================] - 3s 279ms/step - loss: 0.0961 - accuracy: 0.9599 - val_loss: 0.3806 - val_accuracy: 0.8906\n",
            "Epoch 18/50\n",
            "11/11 [==============================] - 3s 277ms/step - loss: 0.0664 - accuracy: 0.9784 - val_loss: 0.5606 - val_accuracy: 0.8906\n",
            "Epoch 19/50\n",
            "11/11 [==============================] - 3s 278ms/step - loss: 0.0480 - accuracy: 0.9897 - val_loss: 0.4423 - val_accuracy: 0.9062\n",
            "Epoch 20/50\n",
            "11/11 [==============================] - 3s 272ms/step - loss: 0.0280 - accuracy: 0.9967 - val_loss: 0.7578 - val_accuracy: 0.8281\n",
            "\n",
            "Epoch 00020: ReduceLROnPlateau reducing learning rate to 0.00010000000474974513.\n",
            "Epoch 21/50\n",
            "11/11 [==============================] - 3s 273ms/step - loss: 0.0209 - accuracy: 0.9953 - val_loss: 0.3088 - val_accuracy: 0.9219\n",
            "Epoch 22/50\n",
            "11/11 [==============================] - 3s 268ms/step - loss: 0.0189 - accuracy: 0.9986 - val_loss: 0.4656 - val_accuracy: 0.9219\n",
            "Epoch 23/50\n",
            "11/11 [==============================] - 3s 267ms/step - loss: 0.0154 - accuracy: 0.9985 - val_loss: 0.4874 - val_accuracy: 0.9062\n"
          ],
          "name": "stdout"
        }
      ]
    },
    {
      "cell_type": "code",
      "metadata": {
        "id": "nkVtyA5buj4O"
      },
      "source": [
        "model.save(\"Lungs.h5\")"
      ],
      "execution_count": 22,
      "outputs": []
    },
    {
      "cell_type": "code",
      "metadata": {
        "colab": {
          "base_uri": "https://localhost:8080/"
        },
        "id": "RxILG9e0oADF",
        "outputId": "e545cf66-e3f7-4f3b-b197-67304c42d765"
      },
      "source": [
        "dat_pred = (model.predict_generator(test_data_proc) > 0.5).astype(int)\r\n",
        "dat_actual =  test_data_proc.classes\r\n",
        "\r\n",
        "for name, value in zip(model.metrics_names, model.evaluate_generator(test_data_proc)):\r\n",
        "    print(f'{name}: {value}')\r\n"
      ],
      "execution_count": 18,
      "outputs": [
        {
          "output_type": "stream",
          "text": [
            "/usr/local/lib/python3.6/dist-packages/tensorflow/python/keras/engine/training.py:1905: UserWarning: `Model.predict_generator` is deprecated and will be removed in a future version. Please use `Model.predict`, which supports generators.\n",
            "  warnings.warn('`Model.predict_generator` is deprecated and '\n",
            "/usr/local/lib/python3.6/dist-packages/tensorflow/python/keras/engine/training.py:1877: UserWarning: `Model.evaluate_generator` is deprecated and will be removed in a future version. Please use `Model.evaluate`, which supports generators.\n",
            "  warnings.warn('`Model.evaluate_generator` is deprecated and '\n"
          ],
          "name": "stderr"
        },
        {
          "output_type": "stream",
          "text": [
            "loss: 0.5490543246269226\n",
            "accuracy: 0.8440366983413696\n"
          ],
          "name": "stdout"
        }
      ]
    },
    {
      "cell_type": "code",
      "metadata": {
        "colab": {
          "base_uri": "https://localhost:8080/"
        },
        "id": "4JmGNwtyoAG1",
        "outputId": "bb4ce413-0b30-4413-d0df-2ebbe75d5146"
      },
      "source": [
        "# Jaccard Score\r\n",
        "\r\n",
        "print(f\"Jaccard Score: {jaccard_score(dat_actual, dat_pred)}\")"
      ],
      "execution_count": 19,
      "outputs": [
        {
          "output_type": "stream",
          "text": [
            "Jaccard Score: 0.5588235294117647\n"
          ],
          "name": "stdout"
        }
      ]
    },
    {
      "cell_type": "code",
      "metadata": {
        "colab": {
          "base_uri": "https://localhost:8080/"
        },
        "id": "oPBhDVaLoUwF",
        "outputId": "ae712cb3-df7d-47f8-b7a1-dd434cbf8deb"
      },
      "source": [
        "#f1 Score\r\n",
        "\r\n",
        "print(f\"f1 score: {f1_score(dat_actual, dat_pred)}\")"
      ],
      "execution_count": 20,
      "outputs": [
        {
          "output_type": "stream",
          "text": [
            "f1 score: 0.7169811320754716\n"
          ],
          "name": "stdout"
        }
      ]
    },
    {
      "cell_type": "code",
      "metadata": {
        "colab": {
          "base_uri": "https://localhost:8080/",
          "height": 501
        },
        "id": "HdupsXmroUzc",
        "outputId": "a8bc3429-3dc7-47e8-d57a-d183a494fb1a"
      },
      "source": [
        "%matplotlib inline\r\n",
        "\r\n",
        "# Confusion Matrix\r\n",
        "\r\n",
        "conf_mat = confusion_matrix(dat_actual, dat_pred)\r\n",
        "fig, ax = plt.subplots(figsize=(7.5, 7.5))\r\n",
        "ax.matshow(conf_mat, cmap=plt.cm.Blues, alpha=0.3)\r\n",
        "for i in range(conf_mat.shape[0]):\r\n",
        "    for j in range(conf_mat.shape[1]):\r\n",
        "        ax.text(x=j, y=i, s=conf_mat[i, j],va='center',ha='center')\r\n",
        "plt.xlabel('Predictions', fontsize=18)\r\n",
        "plt.ylabel('Actuals', fontsize=18)\r\n",
        "plt.title('Confusion Matrix', fontsize=18)\r\n",
        "plt.show()"
      ],
      "execution_count": 21,
      "outputs": [
        {
          "output_type": "display_data",
          "data": {
            "image/png": "[encoded data removed]",
            "text/plain": [
              "<Figure size 540x540 with 1 Axes>"
            ]
          },
          "metadata": {
            "tags": [],
            "needs_background": "light"
          }
        }
      ]
    },
    {
      "cell_type": "code",
      "metadata": {
        "id": "ABvmlnKCpEff"
      },
      "source": [
        ""
      ],
      "execution_count": null,
      "outputs": []
    },
    {
      "cell_type": "code",
      "metadata": {
        "id": "r7qZmzgioU2I"
      },
      "source": [
        ""
      ],
      "execution_count": null,
      "outputs": []
    }
  ]
}