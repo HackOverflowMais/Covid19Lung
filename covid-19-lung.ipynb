{
 "cells": [
  {
   "cell_type": "markdown",
   "source": [
    "# Covid Lung Image analysis"
   ],
   "metadata": {
    "collapsed": false
   }
  },
  {
   "cell_type": "code",
   "execution_count": 82,
   "outputs": [],
   "source": [
    "# Import Dependencies\n",
    "import numpy\n",
    "import pandas\n",
    "import os\n",
    "import tensorflow as tf\n",
    "import matplotlib.pyplot as plt\n",
    "import random\n",
    "import shutil\n",
    "import cv2\n",
    "from sklearn.metrics import f1_score, jaccard_score, confusion_matrix\n",
    "from pathlib import Path\n",
    "\n",
    "# Keras Stuff\n",
    "from tensorflow.keras.models import Sequential\n",
    "from tensorflow.keras.layers import Dense\n",
    "from tensorflow.keras.layers import Conv2D\n",
    "from tensorflow.keras.layers import Flatten\n",
    "from tensorflow.keras.layers import Dropout\n",
    "from tensorflow.keras.layers import MaxPooling2D\n",
    "from tensorflow.keras.preprocessing.image import ImageDataGenerator\n",
    "from tensorflow.keras.losses import BinaryCrossentropy\n",
    "from tensorflow.keras.callbacks import EarlyStopping"
   ],
   "metadata": {
    "collapsed": false,
    "pycharm": {
     "name": "#%%\n"
    }
   }
  },
  {
   "cell_type": "markdown",
   "source": [
    "Now that dependencies are installed, lets understand the data used."
   ],
   "metadata": {
    "collapsed": false,
    "pycharm": {
     "name": "#%% md\n"
    }
   }
  },
  {
   "cell_type": "code",
   "execution_count": 83,
   "outputs": [
    {
     "name": "stdout",
     "output_type": "stream",
     "text": [
      "Scans Covid: 349\n",
      "Scans with No Covid: 397\n"
     ]
    }
   ],
   "source": [
    "p_covid = Path(\"./data/CT_COVID\")\n",
    "p_not_coivd = Path(\"./data/CT_NonCOVID\")\n",
    "p_cov_len = len([x for x in p_covid.iterdir()])\n",
    "p_not_cov_len = len([x for x in p_not_coivd.iterdir()])\n",
    "print(f\"Scans Covid: {p_cov_len}\\nScans with No Covid: {p_not_cov_len}\")\n"
   ],
   "metadata": {
    "collapsed": false,
    "pycharm": {
     "name": "#%%\n"
    }
   }
  },
  {
   "cell_type": "markdown",
   "source": [
    "Lets Split Data into test set and training set.\n",
    "\n",
    "10% of data will be used to test, 90% will be used to train the model."
   ],
   "metadata": {
    "collapsed": false
   }
  },
  {
   "cell_type": "code",
   "execution_count": 84,
   "outputs": [
    {
     "name": "stdout",
     "output_type": "stream",
     "text": [
      "Train Data COVID: 314\n",
      "Test Data Covid: 35\n",
      "Train Data NO COVID: 357\n",
      "Test Data No Covid: 40\n"
     ]
    }
   ],
   "source": [
    "train_data_cov = int(0.9 * p_cov_len)\n",
    "train_data_cov_no = int(0.9 * p_not_cov_len)\n",
    "print(f\"Train Data COVID: {train_data_cov}\\nTest Data Covid: {p_cov_len - train_data_cov}\\nTrain Data NO COVID: {train_data_cov_no}\\nTest Data No Covid: {p_not_cov_len - train_data_cov_no}\")"
   ],
   "metadata": {
    "collapsed": false,
    "pycharm": {
     "name": "#%%\n"
    }
   }
  },
  {
   "cell_type": "code",
   "execution_count": 85,
   "outputs": [
    {
     "name": "stdout",
     "output_type": "stream",
     "text": [
      "Made Dirs\n"
     ]
    }
   ],
   "source": [
    "# Move Test Files Away\n",
    "os.makedirs(\"./train/covid\",exist_ok=True)\n",
    "os.makedirs(\"./train/notcovid\",exist_ok=True)\n",
    "os.makedirs(\"./test/covid\",exist_ok=True)\n",
    "os.makedirs(\"./test/notcovid\",exist_ok=True)\n",
    "print(\"Made Dirs\")"
   ],
   "metadata": {
    "collapsed": false,
    "pycharm": {
     "name": "#%%\n"
    }
   }
  },
  {
   "cell_type": "code",
   "execution_count": 86,
   "outputs": [
    {
     "name": "stdout",
     "output_type": "stream",
     "text": [
      "Moved 314 train covid\n",
      "Moved 35 test covid\n"
     ]
    }
   ],
   "source": [
    "random.seed(456)\n",
    "train_data_cov_to_move = random.sample([x for x in p_covid.iterdir()], train_data_cov)\n",
    "file_name_train_cov = [str(f).split(\"\\\\\")[2] for f in train_data_cov_to_move]\n",
    "for i in range(len(train_data_cov_to_move)):\n",
    "    shutil.copy(f\"./data/CT_COVID/{file_name_train_cov[i]}\",f\"./train/covid/{file_name_train_cov[i]}\")\n",
    "\n",
    "print(f\"Moved {len(file_name_train_cov)} train covid\")\n",
    "\n",
    "c = 0\n",
    "to_mov_test_cov = [str(x).split(\"\\\\\")[2] for x in p_covid.iterdir()]\n",
    "for file in to_mov_test_cov:\n",
    "    if file not in file_name_train_cov:\n",
    "        file = file.replace(\"\\\\\",\"/\")\n",
    "        shutil.copy(f\"./data/CT_COVID/{file}\", f\"./test/covid/{file}\")\n",
    "        c += 1\n",
    "print(f\"Moved {c} test covid\")"
   ],
   "metadata": {
    "collapsed": false,
    "pycharm": {
     "name": "#%%\n"
    }
   }
  },
  {
   "cell_type": "code",
   "execution_count": 87,
   "outputs": [
    {
     "name": "stdout",
     "output_type": "stream",
     "text": [
      "Moved 357 train nocovid\n",
      "Moved 40 test nocovid\n"
     ]
    }
   ],
   "source": [
    "train_data_no_cov_to_move = random.sample([x for x in  p_not_coivd.iterdir()], train_data_cov_no)\n",
    "file_name_train_no_cov = [str(f).split(\"\\\\\")[2] for f in train_data_no_cov_to_move]\n",
    "for i in range(len(train_data_cov_to_move)):\n",
    "    shutil.copy(f\"./data/CT_NonCOVID/{file_name_train_no_cov[i]}\",f\"./train/notcovid/{file_name_train_no_cov[i]}\")\n",
    "\n",
    "print(f\"Moved {len(file_name_train_no_cov)} train nocovid\")\n",
    "\n",
    "c = 0\n",
    "to_mov_test_no_cov = [str(x).split(\"\\\\\")[2] for x in p_not_coivd.iterdir()]\n",
    "for file in to_mov_test_no_cov:\n",
    "    if file not in file_name_train_no_cov:\n",
    "        shutil.copy(f\"./data/CT_NonCOVID/{file}\", f\"./test/notcovid/{file}\")\n",
    "        c += 1\n",
    "print(f\"Moved {c} test nocovid\")"
   ],
   "metadata": {
    "collapsed": false,
    "pycharm": {
     "name": "#%%\n"
    }
   }
  },
  {
   "cell_type": "markdown",
   "source": [
    "Now the Data has been split\n",
    "\n",
    "We Process the data for a model"
   ],
   "metadata": {
    "collapsed": false
   }
  },
  {
   "cell_type": "code",
   "execution_count": 93,
   "outputs": [
    {
     "name": "stdout",
     "output_type": "stream",
     "text": [
      "628\n"
     ]
    }
   ],
   "source": [
    "# Some Config Vars\n",
    "batch_size_number = 64\n",
    "epoch = 10\n",
    "h = 150\n",
    "w = 150\n",
    "\n",
    "total_train = len([c for c in os.listdir(\"./train/covid\")]) + len([c for c in os.listdir(\"./train/notcovid\")])\n",
    "total_test = len([c for c in os.listdir(\"./test/covid\")]) + len([c for c in os.listdir(\"./test/notcovid\")])"
   ],
   "metadata": {
    "collapsed": false,
    "pycharm": {
     "name": "#%%\n"
    }
   }
  },
  {
   "cell_type": "code",
   "execution_count": 78,
   "outputs": [],
   "source": [
    "train_image_generator = ImageDataGenerator(rescale=1./255)\n",
    "test_image_generator = ImageDataGenerator(rescale=1./255)"
   ],
   "metadata": {
    "collapsed": false,
    "pycharm": {
     "name": "#%%\n"
    }
   }
  },
  {
   "cell_type": "code",
   "execution_count": 79,
   "outputs": [
    {
     "name": "stdout",
     "output_type": "stream",
     "text": [
      "Found 628 images belonging to 2 classes.\n"
     ]
    }
   ],
   "source": [
    "\n",
    "train_data_loc = os.path.join(\"./train\")\n",
    "train_data_proc = train_image_generator.flow_from_directory(batch_size=batch_size_number,\n",
    "                                                            directory=train_data_loc,\n",
    "                                                            shuffle=True,\n",
    "                                                            target_size=(h,w),\n",
    "                                                            class_mode='binary')\n"
   ],
   "metadata": {
    "collapsed": false,
    "pycharm": {
     "name": "#%%\n"
    }
   }
  },
  {
   "cell_type": "code",
   "execution_count": 80,
   "outputs": [
    {
     "name": "stdout",
     "output_type": "stream",
     "text": [
      "Found 75 images belonging to 2 classes.\n"
     ]
    }
   ],
   "source": [
    "test_data_loc = os.path.join(\"./test\")\n",
    "test_data_proc = train_image_generator.flow_from_directory(batch_size=batch_size_number,\n",
    "                                                            directory=test_data_loc,\n",
    "                                                            shuffle=True,\n",
    "                                                            target_size=(h,w),\n",
    "                                                            class_mode='binary')"
   ],
   "metadata": {
    "collapsed": false,
    "pycharm": {
     "name": "#%%\n"
    }
   }
  },
  {
   "cell_type": "markdown",
   "source": [
    "Lets's define the model now."
   ],
   "metadata": {
    "collapsed": false
   }
  },
  {
   "cell_type": "code",
   "execution_count": 81,
   "outputs": [
    {
     "name": "stdout",
     "output_type": "stream",
     "text": [
      "Model: \"sequential\"\n",
      "_________________________________________________________________\n",
      "Layer (type)                 Output Shape              Param #   \n",
      "=================================================================\n",
      "conv2d (Conv2D)              (None, 150, 150, 16)      448       \n",
      "_________________________________________________________________\n",
      "max_pooling2d (MaxPooling2D) (None, 75, 75, 16)        0         \n",
      "_________________________________________________________________\n",
      "conv2d_1 (Conv2D)            (None, 75, 75, 32)        4640      \n",
      "_________________________________________________________________\n",
      "max_pooling2d_1 (MaxPooling2 (None, 37, 37, 32)        0         \n",
      "_________________________________________________________________\n",
      "conv2d_2 (Conv2D)            (None, 37, 37, 64)        18496     \n",
      "_________________________________________________________________\n",
      "max_pooling2d_2 (MaxPooling2 (None, 18, 18, 64)        0         \n",
      "_________________________________________________________________\n",
      "flatten (Flatten)            (None, 20736)             0         \n",
      "_________________________________________________________________\n",
      "dense (Dense)                (None, 512)               10617344  \n",
      "_________________________________________________________________\n",
      "dense_1 (Dense)              (None, 1)                 513       \n",
      "=================================================================\n",
      "Total params: 10,641,441\n",
      "Trainable params: 10,641,441\n",
      "Non-trainable params: 0\n",
      "_________________________________________________________________\n"
     ]
    }
   ],
   "source": [
    "model = Sequential([\n",
    "    Conv2D(16, 3, padding='same', activation='relu', input_shape=(h, w, 3)),\n",
    "    MaxPooling2D(),\n",
    "    Conv2D(32, 3, padding='same', activation='relu'),\n",
    "    MaxPooling2D(),\n",
    "    Conv2D(64, 3, padding='same', activation='relu'),\n",
    "    MaxPooling2D(),\n",
    "    Flatten(),\n",
    "    Dense(512, activation='relu'),\n",
    "    Dense(1)\n",
    "])\n",
    "\n",
    "\n",
    "model.summary()\n"
   ],
   "metadata": {
    "collapsed": false,
    "pycharm": {
     "name": "#%%\n"
    }
   }
  },
  {
   "cell_type": "markdown",
   "source": [
    "Optimize and Compile Mod"
   ],
   "metadata": {
    "collapsed": false,
    "pycharm": {
     "name": "#%% md\n"
    }
   }
  },
  {
   "cell_type": "code",
   "execution_count": null,
   "outputs": [],
   "source": [
    "model.compile(optimizer='adam',loss=BinaryCrossentropy(from_logits=True),metrics=['accuracy'])\n",
    "history = model.fit_generator(\n",
    "    train_data_proc,\n",
    "    steps_per_epoch=(total_train//batch_size_number),\n",
    "    epochs=epoch,\n",
    "    validation_data=test_data_proc,\n",
    "    validation_steps=total_test//batch_size_number\n",
    ")"
   ],
   "metadata": {
    "collapsed": false,
    "pycharm": {
     "name": "#%%\n"
    }
   }
  },
  {
   "cell_type": "markdown",
   "source": [
    "Finally We Will Get metrics"
   ],
   "metadata": {
    "collapsed": false,
    "pycharm": {
     "name": "#%% md\n"
    }
   }
  },
  {
   "cell_type": "code",
   "execution_count": null,
   "outputs": [],
   "source": [
    "dat_pred = (model.predict_generator(test_data_proc) > 0.5).astype(int)\n",
    "dat_actual =  test_data_proc.classes\n",
    "\n",
    "for name, value in zip(model.metrics_names, model.evaluate_generator(test_data_proc)):\n",
    "    print(f'{name}: {value}')\n"
   ],
   "metadata": {
    "collapsed": false,
    "pycharm": {
     "name": "#%%\n"
    }
   }
  },
  {
   "cell_type": "code",
   "execution_count": null,
   "outputs": [],
   "source": [
    "# Jaccard Score\n",
    "\n",
    "print(f\"Jaccard Score: {jaccard_score(dat_actual, dat_pred)}\")"
   ],
   "metadata": {
    "collapsed": false,
    "pycharm": {
     "name": "#%%\n"
    }
   }
  },
  {
   "cell_type": "code",
   "execution_count": null,
   "outputs": [],
   "source": [
    "#f1 Score\n",
    "\n",
    "print(f\"f1 score: {f1_score(dat_actual, dat_pred)}\")"
   ],
   "metadata": {
    "collapsed": false,
    "pycharm": {
     "name": "#%%\n"
    }
   }
  },
  {
   "cell_type": "code",
   "execution_count": null,
   "outputs": [],
   "source": [
    "%matplotlib inline\n",
    "\n",
    "# Confusion Matrix\n",
    "\n",
    "conf_mat = confusion_matrix(dat_actual, dat_pred)\n",
    "fig, ax = plt.subplots(figsize=(7.5, 7.5))\n",
    "ax.matshow(conf_mat, cmap=plt.cm.Blues, alpha=0.3)\n",
    "for i in range(conf_mat.shape[0]):\n",
    "    for j in range(conf_mat.shape[1]):\n",
    "        ax.text(x=j, y=i, s=conf_mat[i, j],va='center',ha='center')\n",
    "plt.xlabel('Predictions', fontsize=18)\n",
    "plt.ylabel('Actuals', fontsize=18)\n",
    "plt.title('Confusion Matrix', fontsize=18)\n",
    "plt.show()"
   ],
   "metadata": {
    "collapsed": false,
    "pycharm": {
     "name": "#%%\n"
    }
   }
  }
 ],
 "metadata": {
  "kernelspec": {
   "name": "python38164bit9837315061c34bb4933e412c378a7e7c",
   "language": "python",
   "display_name": "Python 3.8.1 64-bit"
  },
  "language_info": {
   "codemirror_mode": {
    "name": "ipython",
    "version": 2
   },
   "file_extension": ".py",
   "mimetype": "text/x-python",
   "name": "python",
   "nbconvert_exporter": "python",
   "pygments_lexer": "ipython2",
   "version": "2.7.6"
  }
 },
 "nbformat": 4,
 "nbformat_minor": 0
}