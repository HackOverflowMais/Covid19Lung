{
 "cells": [
  {
   "cell_type": "markdown",
   "source": [
    "# Covid Lung Image analysis"
   ],
   "metadata": {
    "collapsed": false
   }
  },
  {
   "cell_type": "code",
   "execution_count": 69,
   "outputs": [],
   "source": [
    "# Import Dependencies\n",
    "import numpy\n",
    "import pandas\n",
    "import os\n",
    "import tensorflow as tf\n",
    "import matplotlib.pyplot as plt\n",
    "import random\n",
    "import shutil\n",
    "import cv2\n",
    "import sklearn.metrics\n",
    "from pathlib import Path\n",
    "\n",
    "# Keras Stuff\n",
    "from tensorflow.keras.models import Sequential\n",
    "from tensorflow.keras.layers import Dense\n",
    "from tensorflow.keras.layers import Conv2D\n",
    "from tensorflow.keras.layers import Flatten\n",
    "from tensorflow.keras.layers import Dropout\n",
    "from tensorflow.keras.layers import MaxPooling2D\n",
    "from tensorflow.keras.preprocessing.image import ImageDataGenerator\n",
    "from tensorflow.keras.callbacks import EarlyStopping"
   ],
   "metadata": {
    "collapsed": false,
    "pycharm": {
     "name": "#%%\n"
    }
   }
  },
  {
   "cell_type": "markdown",
   "source": [
    "Now that dependencies are installed, lets understand the data used."
   ],
   "metadata": {
    "collapsed": false,
    "pycharm": {
     "name": "#%% md\n"
    }
   }
  },
  {
   "cell_type": "code",
   "execution_count": 70,
   "outputs": [
    {
     "name": "stdout",
     "output_type": "stream",
     "text": [
      "Scans Covid: 349\n",
      "Scans with No Covid: 397\n"
     ]
    }
   ],
   "source": [
    "p_covid = Path(\"./data/CT_COVID\")\n",
    "p_not_coivd = Path(\"./data/CT_NonCOVID\")\n",
    "p_cov_len = len([x for x in p_covid.iterdir()])\n",
    "p_not_cov_len = len([x for x in p_not_coivd.iterdir()])\n",
    "print(f\"Scans Covid: {p_cov_len}\\nScans with No Covid: {p_not_cov_len}\")\n"
   ],
   "metadata": {
    "collapsed": false,
    "pycharm": {
     "name": "#%%\n"
    }
   }
  },
  {
   "cell_type": "markdown",
   "source": [
    "Lets Split Data into test set and training set.\n",
    "\n",
    "10% of data will be used to test, 90% will be used to train the model."
   ],
   "metadata": {
    "collapsed": false
   }
  },
  {
   "cell_type": "code",
   "execution_count": 71,
   "outputs": [
    {
     "name": "stdout",
     "output_type": "stream",
     "text": [
      "Train Data COVID: 314\n",
      "Test Data Covid: 35\n",
      "Train Data NO COVID: 357\n",
      "Test Data No Covid: 40\n"
     ]
    }
   ],
   "source": [
    "train_data_cov = int(0.9 * p_cov_len)\n",
    "train_data_cov_no = int(0.9 * p_not_cov_len)\n",
    "print(f\"Train Data COVID: {train_data_cov}\\nTest Data Covid: {p_cov_len - train_data_cov}\\nTrain Data NO COVID: {train_data_cov_no}\\nTest Data No Covid: {p_not_cov_len - train_data_cov_no}\")"
   ],
   "metadata": {
    "collapsed": false,
    "pycharm": {
     "name": "#%%\n"
    }
   }
  },
  {
   "cell_type": "code",
   "execution_count": 72,
   "outputs": [
    {
     "name": "stdout",
     "output_type": "stream",
     "text": [
      "Made Dirs\n"
     ]
    }
   ],
   "source": [
    "# Move Test Files Away\n",
    "os.makedirs(\"./train/covid\",exist_ok=True)\n",
    "os.makedirs(\"./train/notcovid\",exist_ok=True)\n",
    "os.makedirs(\"./test/covid\",exist_ok=True)\n",
    "os.makedirs(\"./test/notcovid\",exist_ok=True)\n",
    "print(\"Made Dirs\")"
   ],
   "metadata": {
    "collapsed": false,
    "pycharm": {
     "name": "#%%\n"
    }
   }
  },
  {
   "cell_type": "code",
   "execution_count": 73,
   "outputs": [
    {
     "name": "stdout",
     "output_type": "stream",
     "text": [
      "Moved 314 train covid\n",
      "Moved 35 test covid\n"
     ]
    }
   ],
   "source": [
    "random.seed(456)\n",
    "train_data_cov_to_move = random.sample([x for x in p_covid.iterdir()], train_data_cov)\n",
    "file_name_train_cov = [str(f).split(\"\\\\\")[2] for f in train_data_cov_to_move]\n",
    "for i in range(len(train_data_cov_to_move)):\n",
    "    shutil.copy(f\"./data/CT_COVID/{file_name_train_cov[i]}\",f\"./train/covid/{file_name_train_cov[i]}\")\n",
    "\n",
    "print(f\"Moved {len(file_name_train_cov)} train covid\")\n",
    "\n",
    "c = 0\n",
    "to_mov_test_cov = [str(x).split(\"\\\\\")[2] for x in p_covid.iterdir()]\n",
    "for file in to_mov_test_cov:\n",
    "    if file not in file_name_train_cov:\n",
    "        file = file.replace(\"\\\\\",\"/\")\n",
    "        shutil.copy(f\"./data/CT_COVID/{file}\", f\"./test/covid/{file}\")\n",
    "        c += 1\n",
    "print(f\"Moved {c} test covid\")"
   ],
   "metadata": {
    "collapsed": false,
    "pycharm": {
     "name": "#%%\n"
    }
   }
  },
  {
   "cell_type": "code",
   "execution_count": 74,
   "outputs": [
    {
     "name": "stdout",
     "output_type": "stream",
     "text": [
      "Moved 357 train nocovid\n",
      "Moved 40 test nocovid\n"
     ]
    }
   ],
   "source": [
    "train_data_no_cov_to_move = random.sample([x for x in  p_not_coivd.iterdir()], train_data_cov_no)\n",
    "file_name_train_no_cov = [str(f).split(\"\\\\\")[2] for f in train_data_no_cov_to_move]\n",
    "for i in range(len(train_data_cov_to_move)):\n",
    "    shutil.copy(f\"./data/CT_NonCOVID/{file_name_train_no_cov[i]}\",f\"./train/notcovid/{file_name_train_no_cov[i]}\")\n",
    "\n",
    "print(f\"Moved {len(file_name_train_no_cov)} train nocovid\")\n",
    "\n",
    "c = 0\n",
    "to_mov_test_no_cov = [str(x).split(\"\\\\\")[2] for x in p_not_coivd.iterdir()]\n",
    "for file in to_mov_test_no_cov:\n",
    "    if file not in file_name_train_no_cov:\n",
    "        shutil.copy(f\"./data/CT_NonCOVID/{file}\", f\"./test/notcovid/{file}\")\n",
    "        c += 1\n",
    "print(f\"Moved {c} test nocovid\")"
   ],
   "metadata": {
    "collapsed": false,
    "pycharm": {
     "name": "#%%\n"
    }
   }
  },
  {
   "cell_type": "markdown",
   "source": [
    "Now the Data has been split\n",
    "\n",
    "We Will train the data."
   ],
   "metadata": {
    "collapsed": false
   }
  },
  {
   "cell_type": "code",
   "execution_count": null,
   "outputs": [],
   "source": [
    "# Some Config Vars\n",
    "batch_size_number = 64\n",
    "epoch = 10\n",
    "h = 150\n",
    "h = 150"
   ],
   "metadata": {
    "collapsed": false,
    "pycharm": {
     "name": "#%%\n"
    }
   }
  }
 ],
 "metadata": {
  "kernelspec": {
   "name": "python38164bit9837315061c34bb4933e412c378a7e7c",
   "language": "python",
   "display_name": "Python 3.8.1 64-bit"
  },
  "language_info": {
   "codemirror_mode": {
    "name": "ipython",
    "version": 2
   },
   "file_extension": ".py",
   "mimetype": "text/x-python",
   "name": "python",
   "nbconvert_exporter": "python",
   "pygments_lexer": "ipython2",
   "version": "2.7.6"
  }
 },
 "nbformat": 4,
 "nbformat_minor": 0
}